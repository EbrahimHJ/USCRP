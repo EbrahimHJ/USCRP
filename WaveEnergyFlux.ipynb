{
 "cells": [
  {
   "cell_type": "code",
   "execution_count": 1,
   "metadata": {},
   "outputs": [
    {
     "name": "stdout",
     "output_type": "stream",
     "text": [
      "Wave Height: 1.50 m, Depth: 10.00 m, Energy Flux: 224083.51 W/m\n",
      "Wave Height: 2.00 m, Depth: 15.00 m, Energy Flux: 487902.45 W/m\n",
      "Wave Height: 2.50 m, Depth: 20.00 m, Energy Flux: 880283.16 W/m\n"
     ]
    }
   ],
   "source": [
    "import numpy as np\n",
    "\n",
    "# Constants\n",
    "rho = 1025  # Density of seawater (kg/m^3)\n",
    "g = 9.81    # Acceleration due to gravity (m/s^2)\n",
    "\n",
    "# Example inputs\n",
    "H = np.array([1.5, 2.0, 2.5])  # Significant wave heights (m)\n",
    "h = np.array([10, 15, 20])     # Water depths (m)\n",
    "\n",
    "# Calculate group velocity (Cg)\n",
    "Cg = np.sqrt(g * h)  # Group velocity in shallow water (m/s)\n",
    "\n",
    "# Calculate wave energy flux (P)\n",
    "P = rho * g * H**2 * Cg\n",
    "\n",
    "# Output results\n",
    "for i in range(len(H)):\n",
    "    print(f\"Wave Height: {H[i]:.2f} m, Depth: {h[i]:.2f} m, Energy Flux: {P[i]:.2f} W/m\")\n"
   ]
  }
 ],
 "metadata": {
  "kernelspec": {
   "display_name": "research",
   "language": "python",
   "name": "python3"
  },
  "language_info": {
   "codemirror_mode": {
    "name": "ipython",
    "version": 3
   },
   "file_extension": ".py",
   "mimetype": "text/x-python",
   "name": "python",
   "nbconvert_exporter": "python",
   "pygments_lexer": "ipython3",
   "version": "3.13.1"
  }
 },
 "nbformat": 4,
 "nbformat_minor": 2
}
